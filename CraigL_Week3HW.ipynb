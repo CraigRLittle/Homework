{
 "cells": [
  {
   "cell_type": "markdown",
   "metadata": {},
   "source": [
    "### Use markdown formatting for the following questions (e.g., bold lettering, bullet points, different font sizes, etc.):\n",
    "\n",
    "- What is an algorithm?\n",
    "- Variable names may not start with certain characters - name two.\n",
    "- What is a Semantic error?\n",
    "- What is the #1 rule of coding / debugging?\n",
    "- List 5 Python reserved words."
   ]
  },
  {
   "cell_type": "markdown",
   "metadata": {},
   "source": [
    "## Python Homework (Data Types)\n",
    "\n",
    "<br>\n",
    "\n",
    "### Questions\n",
    "1. **What is an algorithm?**\n",
    "- An algorithm is a set of commands that must be followed for a computer to perform calculations or other problem-solving operations.  \n",
    "2. **Variable names may not start with certain characters - name two.**\n",
    "- Variable names may not start with a number or any special characters. *EX: !@#$%^&*\n",
    "3. **What is a Semantic error?**\n",
    "- A Semantic error is correctly formed Python code but doesn't do as intended.\n",
    "4. **What is the #1 rule of coding / debugging?**\n",
    "- *IF IT WORKS, DON'T TOUCH IT!!*\n",
    "5. **List 5 Python reserved words.**\n",
    "- 5 Python reserved words are: *and, else, is, if, for*."
   ]
  },
  {
   "cell_type": "markdown",
   "metadata": {},
   "source": [
    "### 6. Write a multi-line comment with your name, favorite food, and dream job on 3 different lines\n"
   ]
  },
  {
   "cell_type": "code",
   "execution_count": null,
   "metadata": {},
   "outputs": [],
   "source": [
    "#6.\n",
    "\"\"\"\n",
    "Craig Little\n",
    "Skyline Chili\n",
    "Data Analyst\n",
    "\"\"\""
   ]
  },
  {
   "cell_type": "markdown",
   "metadata": {},
   "source": [
    "### 7. Assign 5 different data types to 5 different variables. At least one datatype must be a string\n",
    "- Print the length of your string\n",
    "- Print the index value of the 4th character in your string"
   ]
  },
  {
   "cell_type": "code",
   "execution_count": 18,
   "metadata": {},
   "outputs": [
    {
     "name": "stdout",
     "output_type": "stream",
     "text": [
      "6\n",
      "3\n"
     ]
    }
   ],
   "source": [
    "#7.\n",
    "\n",
    "a = \"String\"\n",
    "b = \"007\"\n",
    "c = \"1.23\"\n",
    "d = [\"cat\", \"dog\", \"snake\"]\n",
    "e = (\"green\", \"black\", \"blue\")\n",
    "\n",
    "print (len(a))\n",
    "print (a.index(\"i\"))\n"
   ]
  },
  {
   "cell_type": "markdown",
   "metadata": {},
   "source": [
    "### 8. Create a new variable called savvy, and assign it the string with this phrase \"Learning Data Analytics and Python is Awesome!\"\n",
    "- Return a range of characters that slices the above string from the beginning of \"ing\" up to before \"and\"\n",
    "- Replace \"Awesome\" with \"great\" in the string\n",
    "- Test and print the savvy string to see it contains \"Python\""
   ]
  },
  {
   "cell_type": "code",
   "execution_count": 17,
   "metadata": {},
   "outputs": [
    {
     "name": "stdout",
     "output_type": "stream",
     "text": [
      "ing Data Analytics \n",
      "Learning Data Analytics and Python is great!\n",
      "True\n"
     ]
    }
   ],
   "source": [
    "#8.\n",
    "\n",
    "savvy = \"Learning Data Analytics and Python is Awesome!\"\n",
    "print (savvy[5:24])\n",
    "\n",
    "print(savvy.replace('Awesome', 'great'))\n",
    "print (\"Python\" in savvy)\n"
   ]
  },
  {
   "cell_type": "markdown",
   "metadata": {},
   "source": [
    "### 9. Create and assign 3 more variables called name, age and length using the multi-variable naming method\n",
    "- Format a new string called 'miniBio' using variables in curly brackets to complete this phrase... \"Hi my name is (name), I am (tall) and (so) old today.\"\n",
    "- Print 'miniBio'\n",
    "- Cast and print the age variable to a float"
   ]
  },
  {
   "cell_type": "code",
   "execution_count": 3,
   "metadata": {},
   "outputs": [
    {
     "name": "stdout",
     "output_type": "stream",
     "text": [
      "Hi my name is Craig Little, I am 6 feet tall and 35 years old today.\n",
      "35.0\n"
     ]
    }
   ],
   "source": [
    "#9.\n",
    "\n",
    "name, age, length = \"Craig Little\", \"35\", \"6 feet tall\"\n",
    "\n",
    "miniBio = f\"\"\"Hi my name is {name}, I am {length} and {age} years old today.\"\"\"\n",
    "\n",
    "print (miniBio)\n",
    "\n",
    "print(float(age))"
   ]
  },
  {
   "cell_type": "markdown",
   "metadata": {},
   "source": [
    "### 10. Create a list of at least 5 elements of mixed data types\n",
    "- Replace a part of it with something else\n",
    "- Append or insert several more items to the list\n",
    "- Find and print the length of the list\n",
    "- Slice a sub-section of the 1st list, and save it to a different 2nd list\n",
    "- Print the 2nd list\n",
    "- Extend your original list with the 2nd list sliced above\n",
    "- Create a new list called \"simList\" containing at least 5 elements of the same data type, either string, integer, float, or Boolean\n",
    "- Sort \"simList\", and print the list\n",
    "- Copy the \"simList\" list to another 3rd list\n",
    "- Add the 2nd and 3rd lists together into a 4th list"
   ]
  },
  {
   "cell_type": "code",
   "execution_count": 15,
   "metadata": {},
   "outputs": [
    {
     "name": "stdout",
     "output_type": "stream",
     "text": [
      "7\n",
      "['bob', 10, 10.5]\n",
      "[7, 15, 20, 23, 40]\n",
      "['bob', 10, 10.5, 7, 15, 20, 23, 40]\n"
     ]
    }
   ],
   "source": [
    "#10\n",
    "\n",
    "list = [\"string\", 10, 10.5, True, (\"one\", \"two\", \"three\")]\n",
    "list[0] = \"bob\"\n",
    "list.append(\"added\")\n",
    "list.insert(23, 32)\n",
    "\n",
    "print(len(list))\n",
    "\n",
    "list2 = list[:3]\n",
    "\n",
    "print(list2)\n",
    "\n",
    "list.extend(list2)\n",
    "\n",
    "simList = [20, 40, 15, 7, 23]\n",
    "\n",
    "simList.sort()\n",
    "print(simList)\n",
    "\n",
    "list3 = simList.copy()\n",
    "\n",
    "list4 = list2 + list3\n",
    "\n",
    "print(list4)"
   ]
  },
  {
   "cell_type": "markdown",
   "metadata": {},
   "source": [
    "### 11. Create a tuple of about 5 elements\n",
    "- Multiply your tuple by 3 and save it to a new 2nd tuple\n",
    "- Access and print the 12th element from the 2nd tuple\n",
    "- Sort the 2nd tuple and print it\n",
    "- Copy 4 specific elements from your 2nd tuple to a new 3nd tuple\n",
    "- Unpack the 3rd tuple into 4 variables and print these variables\n",
    "- Create a 4th tuple with single item 50 and print this tuple\n",
    "- Add the 2nd and 3rd tuple together into a 5th tuple and print the tuple"
   ]
  },
  {
   "cell_type": "code",
   "execution_count": 14,
   "metadata": {},
   "outputs": [
    {
     "name": "stdout",
     "output_type": "stream",
     "text": [
      "semi\n",
      "['car', 'car', 'car', 'moped', 'moped', 'moped', 'motorcycle', 'motorcycle', 'motorcycle', 'scooter', 'scooter', 'scooter', 'semi', 'semi', 'semi', 'suv', 'suv', 'suv', 'truck', 'truck', 'truck']\n",
      "car truck suv motorcycle\n",
      "(50,)\n",
      "('car', 'truck', 'suv', 'motorcycle', 'semi', 'scooter', 'moped', 'car', 'truck', 'suv', 'motorcycle', 'semi', 'scooter', 'moped', 'car', 'truck', 'suv', 'motorcycle', 'semi', 'scooter', 'moped', 'car', 'truck', 'suv', 'motorcycle')\n"
     ]
    }
   ],
   "source": [
    "#11\n",
    "\n",
    "t1 = (\"car\", \"truck\", \"suv\", \"motorcycle\", \"semi\", \"scooter\", \"moped\")\n",
    "\n",
    "t2 = t1 * 3\n",
    "\n",
    "print(t2[11])\n",
    "\n",
    "print(sorted(t2))\n",
    "\n",
    "t3 = t2[:4]\n",
    "\n",
    "v1, v2, v3, v4 = t3\n",
    "print(v1,v2,v3,v4)\n",
    "\n",
    "t4 = (50,)\n",
    "print(t4)\n",
    "\n",
    "t5 = t2 + t3\n",
    "print(t5)"
   ]
  },
  {
   "cell_type": "markdown",
   "metadata": {},
   "source": [
    "### 12. Create a set of about 3 elements\n",
    "- Add a list of fruits to the above set and print the result\n",
    "- Add a car element to your set\n",
    "- Create a 2nd set with a few odd items\n",
    "- Save the union of 1st set and 2nd set to a 3rd set\n",
    "- Pop an element from the 2nd set, and print the remainder of the set\n",
    "- Clear the 1st set and print the result\n",
    "- Discard an element, and remove another element from the 3rd set\n",
    "- Print the remainder of the 3rd set"
   ]
  },
  {
   "cell_type": "code",
   "execution_count": 13,
   "metadata": {},
   "outputs": [
    {
     "name": "stdout",
     "output_type": "stream",
     "text": [
      "{'cat', 'cherry', 'bird', 'dog', 'grape', 'apple'}\n",
      "{'desk', 'ipad'}\n",
      "set()\n",
      "{'cat', 'dog', 'grape', 'cherry', 'bird', 'camera', 'desk', 'ipad'}\n"
     ]
    }
   ],
   "source": [
    "#12\n",
    "\n",
    "s1 = {'bird', 'dog', 'cat'}\n",
    "fruits = ['apple', 'cherry', 'grape']\n",
    "cars = ('Ford', 'Chevrolet', 'Mazda')\n",
    "\n",
    "s1.update(fruits)\n",
    "print(s1)\n",
    "\n",
    "s1.add(cars)\n",
    "\n",
    "s2 = {'camera', 'desk', 'ipad'}\n",
    "\n",
    "s3 = s1.union(s2)\n",
    "\n",
    "s2.pop()\n",
    "print(s2)\n",
    "\n",
    "s1.clear()\n",
    "print(s1)\n",
    "\n",
    "s3.discard(cars)\n",
    "s3.remove('apple')\n",
    "\n",
    "print(s3)"
   ]
  },
  {
   "cell_type": "markdown",
   "metadata": {},
   "source": [
    "### 13. Create a dictionary with at least 5 values of different data types\n",
    "- Print out 1 value\n",
    "- Replace any one value in your dictionary with your name\n",
    "- Add your favorite color to the dictionary\n",
    "- Add a list, tuple or set to your dictionary\n",
    "- Print a list of the dictionary keys\n",
    "- Print a list of the dictionary values\n",
    "- Copy your 1st dictionary into a 2nd dictionary\n",
    "- Pop an item from the 2nd dictionary, and print the dictionary\n",
    "- Remove all the elements from the 2nd dictionary and print the result"
   ]
  },
  {
   "cell_type": "code",
   "execution_count": 12,
   "metadata": {},
   "outputs": [
    {
     "name": "stdout",
     "output_type": "stream",
     "text": [
      "fast\n",
      "{'name': 'Craig Little', 'two': 2, 'two_half': 2.5, 'true': True, 'list': ['this', 'is', 'my', 'list']}\n",
      "dict_keys(['name', 'two', 'two_half', 'true', 'list', 'fav_color:', 'new_list'])\n",
      "dict_values(['Craig Little', 2, 2.5, True, ['this', 'is', 'my', 'list'], 'teal', ['this', 'list', 'is', 'new']])\n",
      "{'name': 'Craig Little', 'two': 2, 'two_half': 2.5, 'list': ['this', 'is', 'my', 'list'], 'fav_color:': 'teal', 'new_list': ['this', 'list', 'is', 'new']}\n",
      "{}\n"
     ]
    }
   ],
   "source": [
    "#13\n",
    "\n",
    "d1 = {\n",
    "    \"name\": \"fast\",\n",
    "    \"two\": 2,\n",
    "    \"two_half\": 2.5,\n",
    "    \"true\": True,\n",
    "    \"list\": [\"this\", \"is\", \"my\", \"list\"]\n",
    "}\n",
    "\n",
    "print(d1.get(\"name\"))\n",
    "\n",
    "d1.update({\"name\": \"Craig Little\"})\n",
    "print(d1)\n",
    "\n",
    "d1.update({\"fav_color:\": \"teal\"})\n",
    "\n",
    "d1.update({\"new_list\": [\"this\", \"list\", \"is\", \"new\"]})\n",
    "\n",
    "print(d1.keys())\n",
    "print(d1.values())\n",
    "\n",
    "d2 = d1.copy()\n",
    "\n",
    "d2.pop(\"true\")\n",
    "print(d2)\n",
    "\n",
    "d2.clear()\n",
    "print(d2)"
   ]
  }
 ],
 "metadata": {
  "kernelspec": {
   "display_name": "Python 3",
   "language": "python",
   "name": "python3"
  },
  "language_info": {
   "codemirror_mode": {
    "name": "ipython",
    "version": 3
   },
   "file_extension": ".py",
   "mimetype": "text/x-python",
   "name": "python",
   "nbconvert_exporter": "python",
   "pygments_lexer": "ipython3",
   "version": "3.11.5"
  }
 },
 "nbformat": 4,
 "nbformat_minor": 2
}
