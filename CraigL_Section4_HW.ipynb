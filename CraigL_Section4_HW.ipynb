{
 "cells": [
  {
   "cell_type": "markdown",
   "metadata": {},
   "source": [
    "\n",
    "\n",
    "# Python Homework (Flow Control, Modules, Functions, Exceptions, NumPy)\n",
    "\n",
    "\n",
    "\n",
    "### Use markdown formatting for the following questions (e.g., bold lettering, bullet points, different font sizes, etc.):\n",
    "\n",
    "__1. What does one need to do to use a module?__\n",
    "- To use a module you must IMPORT the module.\n",
    "    - EX: <span style=\"color:pink\">import </span><span style=\"color:green\">pandas</span>\n",
    "\n",
    "__2. Name a Module (not the DateTime Module) we looked at and write a line or 2 of code as an example using this module?__\n",
    "```python\n",
    "import random as rdm\n",
    "\n",
    "random_number = rdm.randint(1,100)\n",
    "print('Random number: ', random_number)\n",
    "```\n",
    "\n",
    "__3. What is a benefit of using Exception Handling?__\n",
    "- A benefit of using Exception handling is that it provides a structured way to handle erros and exceptions that may arise during program execution.\n",
    "\n",
    "__4. What are the 4 components used for Python Exception Handling?__\n",
    "- The 4 components used for Python Exception Handling are:\n",
    "    1. try\n",
    "    2. except\n",
    "    3. else\n",
    "    4. finally\n",
    "\n",
    "__5. NumPy arrays are like what Python data type?__\n",
    "- NumPy arrays are like Python lists.\n",
    "\n",
    "__6. What is one of the main benefits of using NumPy arrays.__\n",
    "- One of the main benefits of using NumPy arrays is that they are executed faster.\n",
    "\n",
    "__7. What is one of the main requirements about the 'dtype' of NumPy arrays?__\n",
    "- One of the main requirements about the 'dtype' of numPy arrays is that it must consist of only one data type.\n",
    "\n",
    "__8. Of the 10 uses of NumPy, name 2.__\n",
    "- 2 of the 10 uses of NumPy are:\n",
    "    1. Mathematical Operations\n",
    "    2. Array Creation\n",
    "\n",
    "__9. Name one of the other libraries we'll use with NumPy?__\n",
    "- One of the other libraries we'll use with NumPy is Pandas.\n",
    "\n",
    "__10. What is the shape of NumPy arrays?__\n",
    "- The NumPy array shape is specified by dimension, length, and size.\n",
    "\n",
    "__11. What is a Tensor?__\n",
    "- A Tensor is an array with 3+ dimensions.\n",
    "\n",
    "__12. Name a reason why it's better using NumPy for Data Analysis than using a Python List?__\n",
    "- One reason why it's better using NumPy for Data Analysis than using a Python List is that NumPy is more memory-efficient.\n",
    "\n",
    "__13. When creating an \"empty\" array, where do the elements come from?__\n",
    "- When creating an \"empty\" array the elements will come from whatever happens to be in the memory allocated to the array."
   ]
  },
  {
   "cell_type": "markdown",
   "metadata": {},
   "source": [
    "### FLOW CONTROL METHODS"
   ]
  },
  {
   "cell_type": "markdown",
   "metadata": {},
   "source": [
    "__1. Create an if statement: if 'age' is greater than or equal to 25, print \"Renting a car is more affordable\", however if 'age' is less than 25, print \"Renting a car is very expensive.\"__"
   ]
  },
  {
   "cell_type": "code",
   "execution_count": 17,
   "metadata": {},
   "outputs": [
    {
     "name": "stdout",
     "output_type": "stream",
     "text": [
      "Renting a car is more affordable\n"
     ]
    }
   ],
   "source": [
    "age = int(input('Enter age: '))\n",
    "\n",
    "if age >= 25:\n",
    "    print('Renting a car is more affordable')\n",
    "else:\n",
    "    print('Rending a car is very expensive')"
   ]
  },
  {
   "cell_type": "markdown",
   "metadata": {},
   "source": [
    "__2. Create and chain an if-else statement: if 'age' is greater than or equal to 25, print \"Renting a car is more affordable.\" If 'age' is less than 25 but greater than or equal to 18, print \"Renting a car is very expensive.\" Finally, if age is less than 18, print \"You cannot legally rent a car.\"__"
   ]
  },
  {
   "cell_type": "code",
   "execution_count": 21,
   "metadata": {},
   "outputs": [
    {
     "name": "stdout",
     "output_type": "stream",
     "text": [
      "You cannot legally rent a car\n"
     ]
    }
   ],
   "source": [
    "age = int(input('Enter age: '))\n",
    "\n",
    "if age >= 25:\n",
    "    print('Renting a car is more affordable')\n",
    "else:\n",
    "    if age >= 18:\n",
    "        print('Renting a car is very expensive')\n",
    "    else:\n",
    "        print('You cannot legally rent a car')"
   ]
  },
  {
   "cell_type": "markdown",
   "metadata": {},
   "source": [
    "__3. Loop over the following string to (1) count all the characters in the string and (2) print out all the vowels -- \"The quick brown fox jumps over the lazy dog\"__"
   ]
  },
  {
   "cell_type": "code",
   "execution_count": 32,
   "metadata": {},
   "outputs": [
    {
     "name": "stdout",
     "output_type": "stream",
     "text": [
      "e\n",
      "u\n",
      "i\n",
      "o\n",
      "o\n",
      "u\n",
      "o\n",
      "e\n",
      "e\n",
      "a\n",
      "o\n",
      "Character Count: 43\n"
     ]
    }
   ],
   "source": [
    "count = 0\n",
    "string = \"The quick brown fox jumps over the lazy dog\"\n",
    "vowels = ['a', 'e', 'i', 'o', 'u']\n",
    "\n",
    "for char in string:\n",
    "    count += 1\n",
    "    if char in vowels:\n",
    "        print(char)\n",
    "print('Character Count:',count)"
   ]
  },
  {
   "cell_type": "markdown",
   "metadata": {},
   "source": [
    "__4. Write a nested loop that prints out every piece of clothing from the couture list, in every fashionable color from the panettone set: couture = [\"trousers\", \"blouse\", \"bandana\", \"cumber band\", \"blazer\", \"vest\", \"french beret\", \"scarf\", \"stole\"] and panettone = {\"cerise\", \"fuchsia\", \"aqua\", \"maple\", \"auburn\", \"burnt sienna\", \"gunmetal blue\", \"Dark Sapphire\"}__"
   ]
  },
  {
   "cell_type": "code",
   "execution_count": 47,
   "metadata": {},
   "outputs": [
    {
     "name": "stdout",
     "output_type": "stream",
     "text": [
      "trousers aqua\n",
      "trousers Dark Sapphire\n",
      "trousers gunmetal blue\n",
      "trousers cerise\n",
      "trousers maple\n",
      "trousers fuchsia\n",
      "trousers burnt sienna\n",
      "trousers auburn\n",
      "blouse aqua\n",
      "blouse Dark Sapphire\n",
      "blouse gunmetal blue\n",
      "blouse cerise\n",
      "blouse maple\n",
      "blouse fuchsia\n",
      "blouse burnt sienna\n",
      "blouse auburn\n",
      "bandana aqua\n",
      "bandana Dark Sapphire\n",
      "bandana gunmetal blue\n",
      "bandana cerise\n",
      "bandana maple\n",
      "bandana fuchsia\n",
      "bandana burnt sienna\n",
      "bandana auburn\n",
      "cumber band aqua\n",
      "cumber band Dark Sapphire\n",
      "cumber band gunmetal blue\n",
      "cumber band cerise\n",
      "cumber band maple\n",
      "cumber band fuchsia\n",
      "cumber band burnt sienna\n",
      "cumber band auburn\n",
      "blazer aqua\n",
      "blazer Dark Sapphire\n",
      "blazer gunmetal blue\n",
      "blazer cerise\n",
      "blazer maple\n",
      "blazer fuchsia\n",
      "blazer burnt sienna\n",
      "blazer auburn\n",
      "vest aqua\n",
      "vest Dark Sapphire\n",
      "vest gunmetal blue\n",
      "vest cerise\n",
      "vest maple\n",
      "vest fuchsia\n",
      "vest burnt sienna\n",
      "vest auburn\n",
      "french beret aqua\n",
      "french beret Dark Sapphire\n",
      "french beret gunmetal blue\n",
      "french beret cerise\n",
      "french beret maple\n",
      "french beret fuchsia\n",
      "french beret burnt sienna\n",
      "french beret auburn\n",
      "scarf aqua\n",
      "scarf Dark Sapphire\n",
      "scarf gunmetal blue\n",
      "scarf cerise\n",
      "scarf maple\n",
      "scarf fuchsia\n",
      "scarf burnt sienna\n",
      "scarf auburn\n",
      "stole aqua\n",
      "stole Dark Sapphire\n",
      "stole gunmetal blue\n",
      "stole cerise\n",
      "stole maple\n",
      "stole fuchsia\n",
      "stole burnt sienna\n",
      "stole auburn\n"
     ]
    }
   ],
   "source": [
    "couture = ['trousers', 'blouse', 'bandana', 'cumber band', 'blazer', 'vest', 'french beret', 'scarf', 'stole']\n",
    "panettone = {'cerise', 'fuchsia', 'aqua', 'maple', 'auburn', 'burnt sienna', 'gunmetal blue', 'Dark Sapphire'}\n",
    "\n",
    "for clothing in couture:\n",
    "    for color in panettone:\n",
    "        print(clothing, color)"
   ]
  },
  {
   "cell_type": "markdown",
   "metadata": {},
   "source": [
    "__5. Use range as a loop to calculate the sum of all the numbers from 1 to 100__"
   ]
  },
  {
   "cell_type": "code",
   "execution_count": 44,
   "metadata": {},
   "outputs": [
    {
     "name": "stdout",
     "output_type": "stream",
     "text": [
      "The sum of all numbers from 1 to 100 is: 5050\n"
     ]
    }
   ],
   "source": [
    "sum = 0\n",
    "\n",
    "for num in range(1, 101):\n",
    "    sum += num\n",
    "\n",
    "print(\"The sum of all numbers from 1 to 100 is:\", sum)"
   ]
  },
  {
   "cell_type": "markdown",
   "metadata": {},
   "source": [
    "__6. Print the second item in this fruits list. [\"apple\", \"banana\", \"cherry\"]__"
   ]
  },
  {
   "cell_type": "code",
   "execution_count": 45,
   "metadata": {},
   "outputs": [
    {
     "name": "stdout",
     "output_type": "stream",
     "text": [
      "banana\n"
     ]
    }
   ],
   "source": [
    "fruits = ['apple', 'banana', 'cherry']\n",
    "\n",
    "print(fruits[1])"
   ]
  },
  {
   "cell_type": "markdown",
   "metadata": {},
   "source": [
    "__7. Change the value from \"apple\" to \"kiwi\", in the fruits list. [\"apple\", \"banana\", \"cherry\"]__"
   ]
  },
  {
   "cell_type": "code",
   "execution_count": 48,
   "metadata": {},
   "outputs": [
    {
     "name": "stdout",
     "output_type": "stream",
     "text": [
      "['kiwi', 'banana', 'cherry']\n"
     ]
    }
   ],
   "source": [
    "fruits = ['apple', 'banana', 'cherry']\n",
    "\n",
    "fruits[0] = 'kiwi'\n",
    "\n",
    "print(fruits)"
   ]
  },
  {
   "cell_type": "markdown",
   "metadata": {},
   "source": [
    "__8. Use the append method to add \"orange\" to the fruits list. [\"apple\", \"banana\", \"cherry\"]__"
   ]
  },
  {
   "cell_type": "code",
   "execution_count": 49,
   "metadata": {},
   "outputs": [
    {
     "name": "stdout",
     "output_type": "stream",
     "text": [
      "['apple', 'banana', 'cherry', 'orange']\n"
     ]
    }
   ],
   "source": [
    "fruits = ['apple', 'banana', 'cherry']\n",
    "\n",
    "fruits.append('orange')\n",
    "\n",
    "print(fruits)"
   ]
  },
  {
   "cell_type": "markdown",
   "metadata": {},
   "source": [
    "__9. Use the insert method to add \"lemon\" as the second item in the fruits list. [\"apple\", \"banana\", \"cherry\"]__"
   ]
  },
  {
   "cell_type": "code",
   "execution_count": 53,
   "metadata": {},
   "outputs": [
    {
     "name": "stdout",
     "output_type": "stream",
     "text": [
      "['apple', 'lemon', 'banana', 'cherry']\n"
     ]
    }
   ],
   "source": [
    "fruits = ['apple', 'banana', 'cherry']\n",
    "\n",
    "fruits.insert(1, 'lemon')\n",
    "\n",
    "print(fruits)"
   ]
  },
  {
   "cell_type": "markdown",
   "metadata": {},
   "source": [
    "__10. Use the remove method to remove \"banana\" from the fruits list. [\"apple\", \"banana\", \"cherry\"]__"
   ]
  },
  {
   "cell_type": "code",
   "execution_count": 55,
   "metadata": {},
   "outputs": [
    {
     "name": "stdout",
     "output_type": "stream",
     "text": [
      "['apple', 'cherry']\n"
     ]
    }
   ],
   "source": [
    "fruits = ['apple', 'banana', 'cherry']\n",
    "\n",
    "fruits.remove('banana')\n",
    "\n",
    "print(fruits)"
   ]
  },
  {
   "cell_type": "markdown",
   "metadata": {},
   "source": [
    "__11. Use negative indexing to print the 3rd and 2nd to last items in the list. [\"apple\", \"banana\", \"cherry\", \"orange\", \"kiwi\", \"melon\", \"mango\"]__"
   ]
  },
  {
   "cell_type": "code",
   "execution_count": 59,
   "metadata": {},
   "outputs": [
    {
     "name": "stdout",
     "output_type": "stream",
     "text": [
      "kiwi melon\n"
     ]
    }
   ],
   "source": [
    "fruits = ['apple', 'banana', 'cherry', 'orange', 'kiwi', 'melon', 'mango']\n",
    "\n",
    "print(fruits[-3], fruits[-2])"
   ]
  },
  {
   "cell_type": "markdown",
   "metadata": {},
   "source": [
    "__12. Use a range of indexes to print the third, fourth, and fifth item in the list. [\"apple\", \"banana\", \"cherry\", \"orange\", \"kiwi\", \"melon\", \"mango\"]__"
   ]
  },
  {
   "cell_type": "code",
   "execution_count": 61,
   "metadata": {},
   "outputs": [
    {
     "name": "stdout",
     "output_type": "stream",
     "text": [
      "cherry\n",
      "orange\n",
      "kiwi\n"
     ]
    }
   ],
   "source": [
    "fruits = ['apple', 'banana', 'cherry', 'orange', 'kiwi', 'melon', 'mango']\n",
    "\n",
    "for fruit in range(2,5):\n",
    "    print(fruits[fruit])"
   ]
  },
  {
   "cell_type": "markdown",
   "metadata": {},
   "source": [
    "__13. Use the correct syntax to print the number of items in the list. [\"apple\", \"banana\", \"cherry\", \"orange\", \"kiwi\", \"melon\", \"mango\"]__"
   ]
  },
  {
   "cell_type": "code",
   "execution_count": 62,
   "metadata": {},
   "outputs": [
    {
     "name": "stdout",
     "output_type": "stream",
     "text": [
      "7\n"
     ]
    }
   ],
   "source": [
    "fruits = ['apple', 'banana', 'cherry', 'orange', 'kiwi', 'melon', 'mango']\n",
    "\n",
    "print(len(fruits))"
   ]
  },
  {
   "cell_type": "markdown",
   "metadata": {},
   "source": [
    "__14. Use the correct syntax to sort this list in reverse order [\"apple\", \"banana\", \"cherry\", \"orange\", \"kiwi\", \"melon\", \"mango\"]__"
   ]
  },
  {
   "cell_type": "code",
   "execution_count": 65,
   "metadata": {},
   "outputs": [
    {
     "name": "stdout",
     "output_type": "stream",
     "text": [
      "['orange', 'melon', 'mango', 'kiwi', 'cherry', 'banana', 'apple']\n"
     ]
    }
   ],
   "source": [
    "fruits = ['apple', 'banana', 'cherry', 'orange', 'kiwi', 'melon', 'mango']\n",
    "\n",
    "fruits.sort(reverse=True)\n",
    "\n",
    "print(fruits)"
   ]
  },
  {
   "cell_type": "markdown",
   "metadata": {},
   "source": [
    "__15. Use the DateTime module to get Current Date and Time, and save it to a variable. Then extract just the Full month name form that variable.__"
   ]
  },
  {
   "cell_type": "code",
   "execution_count": 113,
   "metadata": {},
   "outputs": [
    {
     "name": "stdout",
     "output_type": "stream",
     "text": [
      "October\n"
     ]
    }
   ],
   "source": [
    "import datetime as dt\n",
    "\n",
    "current_dt = dt.datetime.now()\n",
    "month = current_dt.strftime(\"%B\")\n",
    "\n",
    "print(month)"
   ]
  },
  {
   "cell_type": "markdown",
   "metadata": {},
   "source": [
    "__16. Write a simple function that takes 2 parameters -- a first name and a day name.__\n",
    "\n",
    "- Set a default value for the day name of Sunday.\n",
    "- Have the function print out a greeting -- using the parameters -- that says something like \"Hi first-name! Happy day-name!\". Remember to use the variables in the greeting to replace first-name and day-name.\n",
    "- Invoke this function with 2 variables.\n",
    "- Invoke this function with 1 variable only."
   ]
  },
  {
   "cell_type": "code",
   "execution_count": 116,
   "metadata": {},
   "outputs": [
    {
     "name": "stdout",
     "output_type": "stream",
     "text": [
      "Hi Craig! Happy Friday!\n",
      "Hi Jess! Happy Sunday!\n"
     ]
    }
   ],
   "source": [
    "def greeting(first_name, day_name = 'Sunday'):\n",
    "    print('Hi', first_name + '! Happy', day_name + '!')\n",
    "\n",
    "greeting('Craig', 'Friday')\n",
    "\n",
    "greeting(\"Jess\")"
   ]
  },
  {
   "cell_type": "markdown",
   "metadata": {},
   "source": [
    "__17. Write a block of code to handle one of the most common Python exception errors. Select one of the common errors from the curriculum section on Python Exception handling. Have your code example uses the try,except, else, and finally components.__"
   ]
  },
  {
   "cell_type": "code",
   "execution_count": 133,
   "metadata": {},
   "outputs": [
    {
     "name": "stdout",
     "output_type": "stream",
     "text": [
      "Error: Cannot divide by zero!\n",
      "Later Einstein.\n"
     ]
    }
   ],
   "source": [
    "number = int(input(\"Input a number to divide 10,000 by: \"))\n",
    "\n",
    "try:\n",
    "    result = 10000 / number\n",
    "except ZeroDivisionError:\n",
    "    print(\"Error: Cannot divide by zero!\")\n",
    "else:\n",
    "    print(\"The division was successful. \\nResult:\", result)\n",
    "finally:\n",
    "    print(\"Later Einstein.\")"
   ]
  }
 ],
 "metadata": {
  "kernelspec": {
   "display_name": "Python 3",
   "language": "python",
   "name": "python3"
  },
  "language_info": {
   "codemirror_mode": {
    "name": "ipython",
    "version": 3
   },
   "file_extension": ".py",
   "mimetype": "text/x-python",
   "name": "python",
   "nbconvert_exporter": "python",
   "pygments_lexer": "ipython3",
   "version": "3.11.5"
  }
 },
 "nbformat": 4,
 "nbformat_minor": 2
}
