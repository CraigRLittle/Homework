{
 "cells": [
  {
   "cell_type": "markdown",
   "metadata": {},
   "source": [
    "\n",
    "\n",
    "# Python Homework (Flow Control, Modules, Functions, Exceptions, NumPy)\n",
    "\n",
    "\n",
    "\n",
    "### Use markdown formatting for the following questions (e.g., bold lettering, bullet points, different font sizes, etc.):\n",
    "\n",
    "__1. What does one need to do to use a module?__\n",
    "- To use a module you must IMPORT the module.\n",
    "    - EX: <span style=\"color:pink\">import </span><span style=\"color:green\">pandas</span>\n",
    "\n",
    "__2. Name a Module (not the DateTime Nodule) we looked at and write a line or 2 of code as an example using this module.__\n",
    "- \n",
    "\n",
    "\n",
    "\n"
   ]
  }
 ],
 "metadata": {
  "kernelspec": {
   "display_name": "Python 3",
   "language": "python",
   "name": "python3"
  },
  "language_info": {
   "name": "python",
   "version": "3.11.5"
  }
 },
 "nbformat": 4,
 "nbformat_minor": 2
}
