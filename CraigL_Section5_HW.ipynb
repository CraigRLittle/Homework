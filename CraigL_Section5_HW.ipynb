{
 "cells": [
  {
   "cell_type": "markdown",
   "metadata": {},
   "source": [
    "# Python Homework (NumPy, Pandas)\n",
    "\n",
    "### __Use markdown formatting for the following questions (e.g., bold lettering, bullet points, different font sizes, etc.):__\n",
    "\n",
    "\n",
    "__1. What does Pandas stand for?__\n",
    "1. Panel Data\n",
    "2. Python Data Analysis\n",
    "\n",
    "__2. What are the 2 collections used in Pandas?__\n",
    "1. Series\n",
    "2. DataFrame\n",
    "\n",
    "__3. Name 4 things Pandas can do for us.__\n",
    "1. Manipulate\n",
    "2. Prepare\n",
    "3. Model\n",
    "4. Analyze\n",
    "\n",
    "__4. To permanently sort a DataFrame, which keyword should one use with the df.sort() method?__\n",
    "- inplace=True\n",
    "\n",
    "__5. What is a CSV?__\n",
    "- CSV stands for Comma-Seperated Values and is a plain text file format commonly used for storing tabular data.\n",
    "\n",
    "__6. When cleaning data what values do we not like our data.__\n",
    "- Null values\n",
    "\n",
    "\n",
    "\n"
   ]
  },
  {
   "cell_type": "markdown",
   "metadata": {},
   "source": [
    "__7. Import NumPy, use one of the NumPy methods and create an array with a shape of (2, 3, 2). You can use the reshape method -- .reshape()__"
   ]
  },
  {
   "cell_type": "code",
   "execution_count": 84,
   "metadata": {},
   "outputs": [
    {
     "data": {
      "text/plain": [
       "array([[[ 1,  2],\n",
       "        [ 3,  4],\n",
       "        [ 5,  6]],\n",
       "\n",
       "       [[ 7,  8],\n",
       "        [ 9, 10],\n",
       "        [11, 12]]])"
      ]
     },
     "execution_count": 84,
     "metadata": {},
     "output_type": "execute_result"
    }
   ],
   "source": [
    "import numpy as np\n",
    "\n",
    "array = np.array([[1, 2, 3, 4, 5, 6], [7, 8, 9, 10, 11, 12]])\n",
    "\n",
    "reshapedArray = array.reshape(2, 3, 2)\n",
    "\n",
    "reshapedArray"
   ]
  },
  {
   "cell_type": "markdown",
   "metadata": {},
   "source": [
    "__8. Use NumPy .linspace() to create an array with 6 linearly spaced values between 0 and 20__"
   ]
  },
  {
   "cell_type": "code",
   "execution_count": 43,
   "metadata": {},
   "outputs": [
    {
     "data": {
      "text/plain": [
       "array([ 0.,  4.,  8., 12., 16., 20.])"
      ]
     },
     "execution_count": 43,
     "metadata": {},
     "output_type": "execute_result"
    }
   ],
   "source": [
    "array = np.linspace(0, 20, 6)\n",
    "\n",
    "array"
   ]
  },
  {
   "cell_type": "markdown",
   "metadata": {},
   "source": [
    "__9. Make a Deep Copy of the above array__"
   ]
  },
  {
   "cell_type": "code",
   "execution_count": 44,
   "metadata": {},
   "outputs": [
    {
     "data": {
      "text/plain": [
       "array([ 0.,  4.,  8., 12., 16., 20.])"
      ]
     },
     "execution_count": 44,
     "metadata": {},
     "output_type": "execute_result"
    }
   ],
   "source": [
    "array_copy = array.copy()\n",
    "\n",
    "array_copy"
   ]
  },
  {
   "cell_type": "markdown",
   "metadata": {},
   "source": [
    "__10. Concatenate these 3 arrays into a new array named 'newArray'...__"
   ]
  },
  {
   "cell_type": "code",
   "execution_count": 45,
   "metadata": {},
   "outputs": [
    {
     "data": {
      "text/plain": [
       "array([[25, 16],\n",
       "       [11,  2],\n",
       "       [13,  4],\n",
       "       [ 7, 81],\n",
       "       [ 5,  6],\n",
       "       [11, 12]])"
      ]
     },
     "execution_count": 45,
     "metadata": {},
     "output_type": "execute_result"
    }
   ],
   "source": [
    "ar1 = np.array([[25, 16]])\n",
    "ar2 = np.array([[11, 2], [13, 4]])\n",
    "ar3 = np.array([[7, 81], [5, 6], [11, 12]])\n",
    "\n",
    "newArray = np.concatenate((ar1, ar2, ar3))\n",
    "\n",
    "newArray"
   ]
  },
  {
   "cell_type": "markdown",
   "metadata": {},
   "source": [
    "__11. Sort 'newArray' in order into 'sortedArray'__"
   ]
  },
  {
   "cell_type": "code",
   "execution_count": 46,
   "metadata": {},
   "outputs": [
    {
     "data": {
      "text/plain": [
       "array([[16, 25],\n",
       "       [ 2, 11],\n",
       "       [ 4, 13],\n",
       "       [ 7, 81],\n",
       "       [ 5,  6],\n",
       "       [11, 12]])"
      ]
     },
     "execution_count": 46,
     "metadata": {},
     "output_type": "execute_result"
    }
   ],
   "source": [
    "sortedArray = np.sort(newArray)\n",
    "\n",
    "sortedArray"
   ]
  },
  {
   "cell_type": "markdown",
   "metadata": {},
   "source": [
    "__12. Unpack the array tuples from the above 'reshapedArray' into 4 well named variables. Print the 4 variables.__"
   ]
  },
  {
   "cell_type": "code",
   "execution_count": 54,
   "metadata": {},
   "outputs": [
    {
     "name": "stdout",
     "output_type": "stream",
     "text": [
      "[1 2]\n",
      "[3 4]\n",
      "[7 8]\n",
      "[ 9 10]\n"
     ]
    }
   ],
   "source": [
    "var1, var2, var3, var4 = reshapedArray[0][0], reshapedArray[0][1], reshapedArray[1][0], reshapedArray[1][1]\n",
    "\n",
    "print(var1)\n",
    "print(var2)\n",
    "print(var3)\n",
    "print(var4)"
   ]
  },
  {
   "cell_type": "markdown",
   "metadata": {},
   "source": [
    "__13. Combined and sort the following arrays into one called 'comboArray' ...__   \n",
    "    one = ([10, 11, 12, 13, 14, 15, 16, 17])  \n",
    "    two = ([20, 21, 22, 23, 24, 25, 26, 27])  \n",
    "    three = ([ 0, 1, 2, 3, 4, 5, 6, 7])"
   ]
  },
  {
   "cell_type": "code",
   "execution_count": 70,
   "metadata": {},
   "outputs": [
    {
     "name": "stdout",
     "output_type": "stream",
     "text": [
      "[0, 1, 2, 3, 4, 5, 6, 7, 10, 11, 12, 13, 14, 15, 16, 17, 20, 21, 22, 23, 24, 25, 26, 27]\n"
     ]
    }
   ],
   "source": [
    "one = ([10, 11, 12, 13, 14, 15, 16, 17])\n",
    "two = ([20, 21, 22, 23, 24, 25, 26, 27])\n",
    "three = ([ 0, 1, 2, 3, 4, 5, 6, 7])\n",
    "\n",
    "comboArray = one + two + three\n",
    "comboArray.sort()\n",
    "print(comboArray)\n",
    "\n"
   ]
  },
  {
   "cell_type": "markdown",
   "metadata": {},
   "source": [
    "__14. Take 'comboArray' and perform the following slicing activities:__"
   ]
  },
  {
   "cell_type": "code",
   "execution_count": 72,
   "metadata": {},
   "outputs": [
    {
     "name": "stdout",
     "output_type": "stream",
     "text": [
      "sec1: 1\n",
      "sec2: [2, 3, 4, 5, 6, 7, 10, 11, 12, 13, 14, 15, 16, 17, 20, 21, 22, 23, 24, 25, 26, 27]\n",
      "sec3: [3, 4, 5, 6, 7, 10, 11, 12, 13, 14, 15]\n",
      "sec4: [22, 23, 24, 25, 26, 27]\n",
      "sec5: [0, 1, 2, 3, 4, 5, 6, 7, 10, 11, 12, 13, 14, 15, 16, 17]\n",
      "sec6: [24, 26]\n",
      "sec7: [27, 22, 15, 10, 3]\n"
     ]
    }
   ],
   "source": [
    "sec1 = comboArray[1]\n",
    "sec2 = comboArray[2:]\n",
    "sec3 = comboArray[3:14]\n",
    "sec4 = comboArray[-6:]\n",
    "sec5 = comboArray[:16]\n",
    "sec6 = comboArray[20::2]\n",
    "sec7 = comboArray[::-5]\n",
    "\n",
    "print(\"sec1:\", sec1)\n",
    "print(\"sec2:\", sec2)\n",
    "print(\"sec3:\", sec3)\n",
    "print(\"sec4:\", sec4)\n",
    "print(\"sec5:\", sec5)\n",
    "print(\"sec6:\", sec6)\n",
    "print(\"sec7:\", sec7)"
   ]
  },
  {
   "cell_type": "markdown",
   "metadata": {},
   "source": [
    "__15. Using Series, create a DataFrame that looks like this:__  \n",
    "Ingredients\tQuantity\tUnit  \n",
    "Flour\t        4\t    cups  \n",
    "Milk\t        1\t    cup  \n",
    "Eggs\t        2\t    large  \n",
    "Spam\t        1\t    can  "
   ]
  },
  {
   "cell_type": "code",
   "execution_count": 102,
   "metadata": {},
   "outputs": [
    {
     "name": "stdout",
     "output_type": "stream",
     "text": [
      "  Ingredients  Quantity   Unit\n",
      "0       Flour         4   cups\n",
      "1        Milk         1    cup\n",
      "2        Eggs         2  large\n",
      "3        Spam         1    can\n"
     ]
    }
   ],
   "source": [
    "import pandas as pd\n",
    "\n",
    "ingredients = pd.Series(['Flour', 'Milk', 'Eggs', 'Spam'], name = 'Ingredients')\n",
    "quantity = pd.Series([4, 1, 2, 1], name = 'Quantity')\n",
    "unit = pd.Series(['cups', 'cup', 'large', 'can'], name = 'Unit')\n",
    "\n",
    "df = pd.concat([ingredients, quantity, unit], axis=1)\n",
    "\n",
    "print(df)"
   ]
  },
  {
   "cell_type": "markdown",
   "metadata": {},
   "source": [
    "__16. Take this data and create a DataFrame named studentData__  \n",
    "    {'Name': ['Jai', 'janusha', 'Gaurav', 'Anuj'],  \n",
    "        'Height': [5.1, 6.2, 5.1, 5.2],  \n",
    "        'Qualification': ['Msc', 'MA', 'Msc', 'Msc'],  \n",
    "        'address': ['Delhi', 'Doha', 'Chennai', 'Dakhar'],  \n",
    "        'Age': [21, 23, 24, 21],  \n",
    "        'Pets': ['Dog', 'Bunny', 'Chinchilla', 'Parrot'],  \n",
    "        'sport': ['Darts', 'Basketball', 'PaddleBoarding', 'Cricket']  \n",
    "    }\n"
   ]
  },
  {
   "cell_type": "code",
   "execution_count": 91,
   "metadata": {},
   "outputs": [
    {
     "name": "stdout",
     "output_type": "stream",
     "text": [
      "      Name  Height Qualification  Address  Age        Pets           Sport\n",
      "0      Jai     5.1           Msc    Delhi   21         Dog           Darts\n",
      "1  janusha     6.2            MA     Doha   23       Bunny      Basketball\n",
      "2   Gaurav     5.1           Msc  Chennai   24  Chinchilla  PaddleBoarding\n",
      "3     Anuj     5.2           Msc   Dakhar   21      Parrot         Cricket\n"
     ]
    }
   ],
   "source": [
    "students = {'Name': ['Jai', 'janusha', 'Gaurav', 'Anuj'],\n",
    "            'Height': [5.1, 6.2, 5.1, 5.2],\n",
    "            'Qualification': ['Msc', 'MA', 'Msc', 'Msc'],\n",
    "            'Address': ['Delhi', 'Doha', 'Chennai', 'Dakhar'],\n",
    "            'Age': [21, 23, 24, 21],\n",
    "            'Pets': ['Dog', 'Bunny', 'Chinchilla', 'Parrot'],\n",
    "            'Sport': ['Darts', 'Basketball', 'PaddleBoarding', 'Cricket']\n",
    "        }\n",
    "studentData = pd.DataFrame(students)\n",
    "\n",
    "print(studentData)"
   ]
  },
  {
   "cell_type": "markdown",
   "metadata": {},
   "source": [
    "__17. Add a new column to the DataFrame with the following deserts: [\"ice cream\", \"Cashew Fudge\", \"waffels\", \"Carrot Halwa\"]__"
   ]
  },
  {
   "cell_type": "code",
   "execution_count": 93,
   "metadata": {},
   "outputs": [],
   "source": [
    "studentData[\"Desserts\"] = [\"ice cream\", \"Cashew Fudge\", \"waffels\", \"Carrot Halwa\"]"
   ]
  },
  {
   "cell_type": "markdown",
   "metadata": {},
   "source": [
    "__18. Sort the 'studentData' DataFrame in Ascending order -- Sorting by column 'Name' and then \"address\"__"
   ]
  },
  {
   "cell_type": "code",
   "execution_count": 95,
   "metadata": {},
   "outputs": [
    {
     "data": {
      "text/html": [
       "<div>\n",
       "<style scoped>\n",
       "    .dataframe tbody tr th:only-of-type {\n",
       "        vertical-align: middle;\n",
       "    }\n",
       "\n",
       "    .dataframe tbody tr th {\n",
       "        vertical-align: top;\n",
       "    }\n",
       "\n",
       "    .dataframe thead th {\n",
       "        text-align: right;\n",
       "    }\n",
       "</style>\n",
       "<table border=\"1\" class=\"dataframe\">\n",
       "  <thead>\n",
       "    <tr style=\"text-align: right;\">\n",
       "      <th></th>\n",
       "      <th>Name</th>\n",
       "      <th>Height</th>\n",
       "      <th>Qualification</th>\n",
       "      <th>Address</th>\n",
       "      <th>Age</th>\n",
       "      <th>Pets</th>\n",
       "      <th>Sport</th>\n",
       "      <th>desserts</th>\n",
       "      <th>Desserts</th>\n",
       "    </tr>\n",
       "  </thead>\n",
       "  <tbody>\n",
       "    <tr>\n",
       "      <th>3</th>\n",
       "      <td>Anuj</td>\n",
       "      <td>5.2</td>\n",
       "      <td>Msc</td>\n",
       "      <td>Dakhar</td>\n",
       "      <td>21</td>\n",
       "      <td>Parrot</td>\n",
       "      <td>Cricket</td>\n",
       "      <td>Carrot Halwa</td>\n",
       "      <td>Carrot Halwa</td>\n",
       "    </tr>\n",
       "    <tr>\n",
       "      <th>2</th>\n",
       "      <td>Gaurav</td>\n",
       "      <td>5.1</td>\n",
       "      <td>Msc</td>\n",
       "      <td>Chennai</td>\n",
       "      <td>24</td>\n",
       "      <td>Chinchilla</td>\n",
       "      <td>PaddleBoarding</td>\n",
       "      <td>waffels</td>\n",
       "      <td>waffels</td>\n",
       "    </tr>\n",
       "    <tr>\n",
       "      <th>0</th>\n",
       "      <td>Jai</td>\n",
       "      <td>5.1</td>\n",
       "      <td>Msc</td>\n",
       "      <td>Delhi</td>\n",
       "      <td>21</td>\n",
       "      <td>Dog</td>\n",
       "      <td>Darts</td>\n",
       "      <td>ice cream</td>\n",
       "      <td>ice cream</td>\n",
       "    </tr>\n",
       "    <tr>\n",
       "      <th>1</th>\n",
       "      <td>janusha</td>\n",
       "      <td>6.2</td>\n",
       "      <td>MA</td>\n",
       "      <td>Doha</td>\n",
       "      <td>23</td>\n",
       "      <td>Bunny</td>\n",
       "      <td>Basketball</td>\n",
       "      <td>Cashew Fudge</td>\n",
       "      <td>Cashew Fudge</td>\n",
       "    </tr>\n",
       "  </tbody>\n",
       "</table>\n",
       "</div>"
      ],
      "text/plain": [
       "      Name  Height Qualification  Address  Age        Pets           Sport  \\\n",
       "3     Anuj     5.2           Msc   Dakhar   21      Parrot         Cricket   \n",
       "2   Gaurav     5.1           Msc  Chennai   24  Chinchilla  PaddleBoarding   \n",
       "0      Jai     5.1           Msc    Delhi   21         Dog           Darts   \n",
       "1  janusha     6.2            MA     Doha   23       Bunny      Basketball   \n",
       "\n",
       "       desserts      Desserts  \n",
       "3  Carrot Halwa  Carrot Halwa  \n",
       "2       waffels       waffels  \n",
       "0     ice cream     ice cream  \n",
       "1  Cashew Fudge  Cashew Fudge  "
      ]
     },
     "execution_count": 95,
     "metadata": {},
     "output_type": "execute_result"
    }
   ],
   "source": [
    "studentData.sort_values(['Name'], ascending= True)"
   ]
  },
  {
   "cell_type": "code",
   "execution_count": 96,
   "metadata": {},
   "outputs": [
    {
     "data": {
      "text/html": [
       "<div>\n",
       "<style scoped>\n",
       "    .dataframe tbody tr th:only-of-type {\n",
       "        vertical-align: middle;\n",
       "    }\n",
       "\n",
       "    .dataframe tbody tr th {\n",
       "        vertical-align: top;\n",
       "    }\n",
       "\n",
       "    .dataframe thead th {\n",
       "        text-align: right;\n",
       "    }\n",
       "</style>\n",
       "<table border=\"1\" class=\"dataframe\">\n",
       "  <thead>\n",
       "    <tr style=\"text-align: right;\">\n",
       "      <th></th>\n",
       "      <th>Name</th>\n",
       "      <th>Height</th>\n",
       "      <th>Qualification</th>\n",
       "      <th>Address</th>\n",
       "      <th>Age</th>\n",
       "      <th>Pets</th>\n",
       "      <th>Sport</th>\n",
       "      <th>desserts</th>\n",
       "      <th>Desserts</th>\n",
       "    </tr>\n",
       "  </thead>\n",
       "  <tbody>\n",
       "    <tr>\n",
       "      <th>2</th>\n",
       "      <td>Gaurav</td>\n",
       "      <td>5.1</td>\n",
       "      <td>Msc</td>\n",
       "      <td>Chennai</td>\n",
       "      <td>24</td>\n",
       "      <td>Chinchilla</td>\n",
       "      <td>PaddleBoarding</td>\n",
       "      <td>waffels</td>\n",
       "      <td>waffels</td>\n",
       "    </tr>\n",
       "    <tr>\n",
       "      <th>3</th>\n",
       "      <td>Anuj</td>\n",
       "      <td>5.2</td>\n",
       "      <td>Msc</td>\n",
       "      <td>Dakhar</td>\n",
       "      <td>21</td>\n",
       "      <td>Parrot</td>\n",
       "      <td>Cricket</td>\n",
       "      <td>Carrot Halwa</td>\n",
       "      <td>Carrot Halwa</td>\n",
       "    </tr>\n",
       "    <tr>\n",
       "      <th>0</th>\n",
       "      <td>Jai</td>\n",
       "      <td>5.1</td>\n",
       "      <td>Msc</td>\n",
       "      <td>Delhi</td>\n",
       "      <td>21</td>\n",
       "      <td>Dog</td>\n",
       "      <td>Darts</td>\n",
       "      <td>ice cream</td>\n",
       "      <td>ice cream</td>\n",
       "    </tr>\n",
       "    <tr>\n",
       "      <th>1</th>\n",
       "      <td>janusha</td>\n",
       "      <td>6.2</td>\n",
       "      <td>MA</td>\n",
       "      <td>Doha</td>\n",
       "      <td>23</td>\n",
       "      <td>Bunny</td>\n",
       "      <td>Basketball</td>\n",
       "      <td>Cashew Fudge</td>\n",
       "      <td>Cashew Fudge</td>\n",
       "    </tr>\n",
       "  </tbody>\n",
       "</table>\n",
       "</div>"
      ],
      "text/plain": [
       "      Name  Height Qualification  Address  Age        Pets           Sport  \\\n",
       "2   Gaurav     5.1           Msc  Chennai   24  Chinchilla  PaddleBoarding   \n",
       "3     Anuj     5.2           Msc   Dakhar   21      Parrot         Cricket   \n",
       "0      Jai     5.1           Msc    Delhi   21         Dog           Darts   \n",
       "1  janusha     6.2            MA     Doha   23       Bunny      Basketball   \n",
       "\n",
       "       desserts      Desserts  \n",
       "2       waffels       waffels  \n",
       "3  Carrot Halwa  Carrot Halwa  \n",
       "0     ice cream     ice cream  \n",
       "1  Cashew Fudge  Cashew Fudge  "
      ]
     },
     "execution_count": 96,
     "metadata": {},
     "output_type": "execute_result"
    }
   ],
   "source": [
    "studentData.sort_values(['Address'], ascending= True)"
   ]
  },
  {
   "cell_type": "markdown",
   "metadata": {},
   "source": [
    "__19. Save this DataFrame here below to disc as a .CSV file with the name cows_and_goats.csv:__  \n",
    "    df = pd.DataFrame({'Cows': [12, 20], 'Goats': [22, 19]}, index=['Year 1', 'Year 2'])"
   ]
  },
  {
   "cell_type": "code",
   "execution_count": 98,
   "metadata": {},
   "outputs": [],
   "source": [
    "df = pd.DataFrame({'Cows': [12, 20], 'Goats': [22, 19]}, index=['Year 1', 'Year 2'])\n",
    "\n",
    "df.to_csv('cows_and_goats.csv')"
   ]
  },
  {
   "cell_type": "markdown",
   "metadata": {},
   "source": [
    "__20.  \n",
    "(A) Using Pandas, make your own .CSV file with data on vegetables and save it.__"
   ]
  },
  {
   "cell_type": "code",
   "execution_count": 104,
   "metadata": {},
   "outputs": [
    {
     "name": "stdout",
     "output_type": "stream",
     "text": [
      "  Vegetable   Color\n",
      "0  Broccoli   Green\n",
      "1  Cucumber  Yellow\n",
      "2    Turnip  Purple\n",
      "3      Peas   Green\n"
     ]
    }
   ],
   "source": [
    "import pandas as pd\n",
    "\n",
    "vegetable = pd.Series(['Broccoli', 'Cucumber', 'Turnip', 'Peas'], name = 'Vegetable')\n",
    "color = pd.Series(['Green', 'Yellow', 'Purple', 'Green' ], name = 'Color')\n",
    "\n",
    "\n",
    "df = pd.concat([vegetable, color], axis=1)\n",
    "\n",
    "df.to_csv('vegetables.csv')\n",
    "\n",
    "\n",
    "print(df)"
   ]
  },
  {
   "cell_type": "markdown",
   "metadata": {},
   "source": [
    "__20.  \n",
    "(B) Using Pandas, make a change to your CSV file, and save a copy with a different name.__"
   ]
  },
  {
   "cell_type": "code",
   "execution_count": 105,
   "metadata": {},
   "outputs": [],
   "source": [
    "vegetablesNew = pd.read_csv('vegetables.csv')\n",
    "\n",
    "goodBad = pd.Series(['Good', 'Bad', 'Bad', 'Good'])\n",
    "\n",
    "df2 = pd.concat([df, goodBad])\n",
    "\n",
    "df2.to_csv('vegetables2.csv')"
   ]
  }
 ],
 "metadata": {
  "kernelspec": {
   "display_name": "Python 3",
   "language": "python",
   "name": "python3"
  },
  "language_info": {
   "codemirror_mode": {
    "name": "ipython",
    "version": 3
   },
   "file_extension": ".py",
   "mimetype": "text/x-python",
   "name": "python",
   "nbconvert_exporter": "python",
   "pygments_lexer": "ipython3",
   "version": "3.11.5"
  }
 },
 "nbformat": 4,
 "nbformat_minor": 2
}
