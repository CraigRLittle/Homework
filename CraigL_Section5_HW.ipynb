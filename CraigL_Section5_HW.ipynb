{
 "cells": [
  {
   "cell_type": "markdown",
   "metadata": {},
   "source": [
    "# Python Homework (NumPy, Pandas)\n",
    "\n",
    "### __Use markdown formatting for the following questions (e.g., bold lettering, bullet points, different font sizes, etc.):__\n",
    "\n",
    "\n",
    "__1. What does Pandas stand for?__\n",
    "1. Panel Data\n",
    "2. Python Data Analysis\n",
    "\n",
    "__2. What are the 2 collections used in Pandas?__\n",
    "1. Series\n",
    "2. DataFrame\n",
    "\n",
    "__3. Name 4 things Pandas can do for us.__\n",
    "1. Manipulate\n",
    "2. Prepare\n",
    "3. Model\n",
    "4. Analyze\n",
    "\n",
    "__4. "
   ]
  },
  {
   "cell_type": "code",
   "execution_count": null,
   "metadata": {},
   "outputs": [],
   "source": []
  }
 ],
 "metadata": {
  "language_info": {
   "name": "python"
  }
 },
 "nbformat": 4,
 "nbformat_minor": 2
}
