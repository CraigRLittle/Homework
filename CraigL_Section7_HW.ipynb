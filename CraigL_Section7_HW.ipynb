{
 "cells": [
  {
   "cell_type": "markdown",
   "metadata": {},
   "source": [
    "# SECTION 07 HW"
   ]
  },
  {
   "cell_type": "markdown",
   "metadata": {},
   "source": [
    "## SECTION 7.1"
   ]
  },
  {
   "cell_type": "markdown",
   "metadata": {},
   "source": [
    "### QUESTION 1  \n",
    "SELECT ModelYear, Make, Model  \n",
    "FROM evRegistry  \n",
    "  \n",
    "### QUESTION 2  \n",
    "SELECT ElectricVehicleType  \n",
    "FROM EVRegistry  \n",
    "GROUP by ElectricVehicleType  \n",
    "  \n",
    "### QUESTION 3  \n",
    "SELECT *  \n",
    "FROM EVRegistry  \n",
    "WHERE ElectricVehicleType = \"Battery Electric Vehicle (BEV)\"  \n",
    "\n",
    "### QUESTION 4  \n",
    "  \n",
    "SELECT Make, Model  \n",
    "FROM EVRegistry  \n",
    "WHERE BaseMSRP BETWEEN 20000 and 35000  \n",
    "GROUP by Make, Model  "
   ]
  },
  {
   "cell_type": "markdown",
   "metadata": {},
   "source": [
    "## SECTION 7.2"
   ]
  },
  {
   "cell_type": "markdown",
   "metadata": {},
   "source": [
    "### QUESTION 1  \n",
    "SELECT *  \n",
    "FROM EVRegistry  \n",
    "WHERE City is NULL  \n",
    "  \n",
    "### QUESTION 2  \n",
    "SELECT Make, Model, ElectricVehicleType  \n",
    "FROM EVRegistry  \n",
    "WHERE VIN like \"%3E1EA1J\"  \n",
    "  \n",
    "### QUESTION 3\n",
    "SELECT ModelYear, Make, Model, ElectricVehicleType, ElectricRange  \n",
    "FROM EVRegistry  \n",
    "WHERE Make = 'TESLA' OR Make = 'CHEVROLET'  \n",
    "ORDER BY Make, ModelYear DESC  \n",
    "\n",
    "### QUESTION 4  \n",
    "SELECT StationID, Count(*) as numUses  \n",
    "FROM EVCharging  \n",
    "GROUP BY StationID  \n",
    "ORDER BY COUNT(*) DESC  \n",
    "LIMIT 5  \n",
    "  \n",
    "### QUESTION 5  \n",
    "SELECT UserId, MIN(ChargeTimeHrs) AS 'MinTime', MAX(ChargeTimeHrs) AS 'MaxTime'  \n",
    "FROM EVCharging  \n",
    "WHERE chargeTimeHrs > 0.5  \n",
    "GROUP BY userId  \n",
    "ORDER BY 2, 3"
   ]
  },
  {
   "cell_type": "markdown",
   "metadata": {},
   "source": [
    "# SECTION 7.3"
   ]
  },
  {
   "cell_type": "markdown",
   "metadata": {},
   "source": [
    "### QUESTION 1  \n",
    "SELECT Weekday, ROUND(AVG(chargeTimeHrs), 2) AS AVGCHARGETIME  \n",
    "FROM EVCharging  \n",
    "GROUP BY Weekday  \n",
    "ORDER BY 2 DESC  \n",
    "LIMIT 1\n",
    "\n",
    "### QUESTION 2  \n",
    "SELECT userId, round(sum(kwhTotal),2) as 'totalPower'  \n",
    "FROM EVCharging  \n",
    "group by userId  \n",
    "ORDER by totalPower DESC  \n",
    "LIMIT 15\n",
    "\n",
    "### QUESTION 3  \n",
    "SELECT typeFacility AS 'Facility', count(DISTINCT stationId) as 'numStation'  \n",
    "FROM dimFacility df  \n",
    "INNER JOIN factCharge fc on df.FacilityKey = fc.facilityID  \n",
    "GROUP BY \"Facility\"  \n",
    "ORDER BY \"numStation\" DESC  \n",
    "  \n",
    "### QUESTION 4  \n",
    "Primary keys are what SQL uses to match and combine the rows of each table. Foreign keys are used to verify more columns to better link the rows.  \n",
    "  \n",
    "### QUESTION 5  \n",
    "SELECT userId, ROUND(MIN(chargeTimeHrs), 2) AS minTime, ROUND(MAX(chargeTimeHrs), 2) AS maxTime  \n",
    "FROM EVCharging  \n",
    "GROUP BY userId  \n",
    "Having MinTime > 1.0  \n",
    "ORDER BY \"minTime\", \"maxTime\""
   ]
  }
 ],
 "metadata": {
  "language_info": {
   "name": "python"
  }
 },
 "nbformat": 4,
 "nbformat_minor": 2
}
