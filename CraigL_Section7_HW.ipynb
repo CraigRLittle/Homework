{
 "cells": [
  {
   "cell_type": "markdown",
   "metadata": {},
   "source": [
    "# SECTION 07 HW"
   ]
  },
  {
   "cell_type": "markdown",
   "metadata": {},
   "source": [
    "## SECTION 7.1"
   ]
  },
  {
   "cell_type": "markdown",
   "metadata": {},
   "source": [
    "### QUESTION 1  \n",
    "SELECT ModelYear, Make, Model  \n",
    "FROM evRegistry  \n",
    "  \n",
    "### QUESTION 2  \n",
    "SELECT ElectricVehicleType  \n",
    "FROM EVRegistry  \n",
    "GROUP by ElectricVehicleType  \n",
    "  \n",
    "### QUESTION 3  \n",
    "SELECT *  \n",
    "FROM EVRegistry  \n",
    "WHERE ElectricVehicleType = \"Battery Electric Vehicle (BEV)\"  \n",
    "\n",
    "### QUESTION 4  \n",
    "  \n",
    "SELECT Make, Model  \n",
    "FROM EVRegistry  \n",
    "WHERE BaseMSRP BETWEEN 20000 and 35000  \n",
    "GROUP by Make, Model  "
   ]
  }
 ],
 "metadata": {
  "language_info": {
   "name": "python"
  }
 },
 "nbformat": 4,
 "nbformat_minor": 2
}
